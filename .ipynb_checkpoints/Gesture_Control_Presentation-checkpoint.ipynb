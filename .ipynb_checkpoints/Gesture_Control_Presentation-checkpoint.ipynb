{
 "cells": [
  {
   "cell_type": "markdown",
   "id": "40c2a179",
   "metadata": {},
   "source": [
    "# Gesture Control Presentation Logic\n",
    "\n",
    "# Project Dependencies"
   ]
  },
  {
   "cell_type": "code",
   "execution_count": null,
   "id": "fa1e6aa1",
   "metadata": {},
   "outputs": [],
   "source": [
    "!pip install cvzone\n",
    "!pip install mediapipe\n"
   ]
  },
  {
   "cell_type": "markdown",
   "id": "57d93a71",
   "metadata": {},
   "source": [
    "# Importing Required Packages "
   ]
  },
  {
   "cell_type": "code",
   "execution_count": null,
   "id": "800ad6ff",
   "metadata": {},
   "outputs": [],
   "source": [
    "from cvzone.HandTrackingModule import HandDetector\n",
    "import cv2\n",
    "import os\n",
    "import numpy as np\n"
   ]
  },
  {
   "cell_type": "markdown",
   "id": "4c982098",
   "metadata": {},
   "source": [
    "# Parameters"
   ]
  },
  {
   "cell_type": "code",
   "execution_count": null,
   "id": "2608dff7",
   "metadata": {},
   "outputs": [],
   "source": [
    "width, height = 1280, 720\n",
    "gestureThreshold = 300\n",
    "folderPath = \"Presentation\"\n"
   ]
  },
  {
   "cell_type": "markdown",
   "id": "e6f0cd38",
   "metadata": {},
   "source": [
    "# Camera Setup"
   ]
  },
  {
   "cell_type": "code",
   "execution_count": null,
   "id": "53b5e206",
   "metadata": {},
   "outputs": [],
   "source": [
    "cap = cv2.VideoCapture(0)\n",
    "cap.set(3, width)\n",
    "cap.set(4, height)"
   ]
  },
  {
   "cell_type": "markdown",
   "id": "254ccb69",
   "metadata": {},
   "source": [
    "# Hand Detector"
   ]
  },
  {
   "cell_type": "code",
   "execution_count": null,
   "id": "bae0de86",
   "metadata": {},
   "outputs": [],
   "source": [
    "detectorHand = HandDetector(detectionCon=0.8, maxHands=1)"
   ]
  },
  {
   "cell_type": "markdown",
   "id": "40668c0d",
   "metadata": {},
   "source": [
    "# Variables"
   ]
  },
  {
   "cell_type": "code",
   "execution_count": null,
   "id": "74a9686c",
   "metadata": {},
   "outputs": [],
   "source": [
    "imgList = []\n",
    "delay = 30\n",
    "buttonPressed = False\n",
    "counter = 0\n",
    "drawMode = False\n",
    "imgNumber = 0\n",
    "delayCounter = 0\n",
    "annotations = [[]]\n",
    "annotationNumber = -1\n",
    "annotationStart = False\n",
    "hs, ws = int(120 * 1), int(213 * 1)  # width and height of small image"
   ]
  },
  {
   "cell_type": "markdown",
   "id": "1a71107c",
   "metadata": {},
   "source": [
    "# Get list of presentation images"
   ]
  },
  {
   "cell_type": "code",
   "execution_count": null,
   "id": "203f697b",
   "metadata": {},
   "outputs": [],
   "source": [
    "pathImages = sorted(os.listdir(folderPath), key=len)\n",
    "print(pathImages)\n"
   ]
  },
  {
   "cell_type": "markdown",
   "id": "b775d77f",
   "metadata": {},
   "source": [
    "# Testing "
   ]
  },
  {
   "cell_type": "code",
   "execution_count": null,
   "id": "8b70a235",
   "metadata": {},
   "outputs": [],
   "source": [
    "while True:\n",
    "    # Get image frame\n",
    "    success, img = cap.read()\n",
    "    img = cv2.flip(img, 1)\n",
    "    pathFullImage = os.path.join(folderPath, pathImages[imgNumber])\n",
    "    imgCurrent = cv2.imread(pathFullImage)\n",
    "\n",
    "    # Find the hand and its landmarks\n",
    "    hands, img = detectorHand.findHands(img)  # with draw\n",
    "    # Draw Gesture Threshold line\n",
    "    cv2.line(img, (0, gestureThreshold), (width, gestureThreshold), (0, 255, 0), 10)\n",
    "\n",
    "    if hands and buttonPressed is False:  # If hand is detected\n",
    "\n",
    "        hand = hands[0]\n",
    "        cx, cy = hand[\"center\"]\n",
    "        lmList = hand[\"lmList\"]  # List of 21 Landmark points\n",
    "        fingers = detectorHand.fingersUp(hand)  # List of which fingers are up\n",
    "\n",
    "        # Constrain values for easier drawing\n",
    "        xVal = int(np.interp(lmList[8][0], [width // 2, width], [0, width]))\n",
    "        yVal = int(np.interp(lmList[8][1], [150, height-150], [0, height]))\n",
    "        indexFinger = xVal, yVal\n",
    "\n",
    "        if cy <= gestureThreshold:  # If hand is at the height of the face\n",
    "            if fingers == [1, 0, 0, 0, 0]:\n",
    "                print(\"Left\")\n",
    "                buttonPressed = True\n",
    "                if imgNumber > 0:\n",
    "                    imgNumber -= 1\n",
    "                    annotations = [[]]\n",
    "                    annotationNumber = -1\n",
    "                    annotationStart = False\n",
    "            if fingers == [0, 0, 0, 0, 1]:\n",
    "                print(\"Right\")\n",
    "                buttonPressed = True\n",
    "                if imgNumber < len(pathImages) - 1:\n",
    "                    imgNumber += 1\n",
    "                    annotations = [[]]\n",
    "                    annotationNumber = -1\n",
    "                    annotationStart = False\n",
    "\n",
    "        if fingers == [0, 1, 1, 0, 0]:\n",
    "            cv2.circle(imgCurrent, indexFinger, 12, (0, 0, 255), cv2.FILLED)\n",
    "\n",
    "        if fingers == [0, 1, 0, 0, 0]:\n",
    "            if annotationStart is False:\n",
    "                annotationStart = True\n",
    "                annotationNumber += 1\n",
    "                annotations.append([])\n",
    "            print(annotationNumber)\n",
    "            annotations[annotationNumber].append(indexFinger)\n",
    "            cv2.circle(imgCurrent, indexFinger, 12, (0, 0, 255), cv2.FILLED)\n",
    "\n",
    "        else:\n",
    "            annotationStart = False\n",
    "\n",
    "        if fingers == [0, 1, 1, 1, 0]:\n",
    "            if annotations:\n",
    "                annotations.pop(-1)\n",
    "                annotationNumber -= 1\n",
    "                buttonPressed = True\n",
    "\n",
    "    else:\n",
    "        annotationStart = False\n",
    "\n",
    "    if buttonPressed:\n",
    "        counter += 1\n",
    "        if counter > delay:\n",
    "            counter = 0\n",
    "            buttonPressed = False\n",
    "\n",
    "    for i, annotation in enumerate(annotations):\n",
    "        for j in range(len(annotation)):\n",
    "            if j != 0:\n",
    "                cv2.line(imgCurrent, annotation[j - 1], annotation[j], (0, 0, 200), 12)\n",
    "\n",
    "    imgSmall = cv2.resize(img, (ws, hs))\n",
    "    h, w, _ = imgCurrent.shape\n",
    "    imgCurrent[0:hs, w - ws: w] = imgSmall\n",
    "\n",
    "    cv2.imshow(\"Slides\", imgCurrent)\n",
    "    cv2.imshow(\"Image\", img)\n",
    "\n",
    "    key = cv2.waitKey(1)\n",
    "    if key == ord('q'):\n",
    "        break"
   ]
  }
 ],
 "metadata": {
  "kernelspec": {
   "display_name": "Python 3 (ipykernel)",
   "language": "python",
   "name": "python3"
  },
  "language_info": {
   "codemirror_mode": {
    "name": "ipython",
    "version": 3
   },
   "file_extension": ".py",
   "mimetype": "text/x-python",
   "name": "python",
   "nbconvert_exporter": "python",
   "pygments_lexer": "ipython3",
   "version": "3.8.10"
  }
 },
 "nbformat": 4,
 "nbformat_minor": 5
}
